{
 "cells": [
  {
   "cell_type": "markdown",
   "id": "0ebf6173-7ecd-4ddc-a7e6-e8e926b97758",
   "metadata": {},
   "source": [
    "Q1. What is the difference between Ordinal Encoding and Label Encoding? Provide an example of when you\n",
    "might choose one over the other."
   ]
  },
  {
   "cell_type": "markdown",
   "id": "7d41e284-e111-42ce-ac1f-2ca08ec9bf67",
   "metadata": {},
   "source": [
    "Use Ordinal Encoding:\n",
    "Choose Ordinal Encoding when there is a clear order or rank among the categories, and this order holds some meaningful information that is relevant to your analysis or model. For example, if you have a survey question with responses like \"Strongly Disagree,\" \"Disagree,\" \"Neutral,\" \"Agree,\" and \"Strongly Agree,\" you can use ordinal encoding to capture the ordinal nature of the responses.\n",
    "\n",
    "Use Label Encoding:\n",
    "Choose Label Encoding when the categorical variable doesn't have a meaningful order, and the categories are treated as distinct and unrelated. For nominal variables like \"Country,\" \"Gender,\" or \"Color,\" where no inherent order exists, label encoding is appropriate.\n",
    "\n",
    "In summary, Ordinal Encoding is suited for categorical variables with a meaningful order, while Label Encoding is more appropriate for nominal categorical variables. Always consider the context of your data and the specific requirements of your analysis or model when choosing between these encoding techniques."
   ]
  },
  {
   "cell_type": "code",
   "execution_count": null,
   "id": "e92ad363-ae39-489a-ba8c-c8c94705536d",
   "metadata": {},
   "outputs": [],
   "source": []
  },
  {
   "cell_type": "markdown",
   "id": "b60ddbc4-1b17-42a5-af5b-14832debd2ac",
   "metadata": {},
   "source": [
    "Q2. Explain how Target Guided Ordinal Encoding works and provide an example of when you might use it in\n",
    "a machine learning project."
   ]
  },
  {
   "cell_type": "markdown",
   "id": "84d43857-d145-4ed5-b375-ba40688022bc",
   "metadata": {},
   "source": [
    "Target Guided Ordinal Encoding is a technique used to encode categorical variables based on the target variable's relationship with each category. This method leverages the information from the target variable to create an ordinal mapping that captures the order of categories in terms of their impact on the target variable. It's particularly useful when dealing with categorical variables where the order of categories matters and has a significant influence on the target variable"
   ]
  },
  {
   "cell_type": "code",
   "execution_count": null,
   "id": "7aed3eea-dec5-4391-80fc-07fbca79023e",
   "metadata": {},
   "outputs": [],
   "source": []
  },
  {
   "cell_type": "code",
   "execution_count": null,
   "id": "9a115605-aa96-4b3c-af16-fe94b292af7d",
   "metadata": {},
   "outputs": [],
   "source": []
  },
  {
   "cell_type": "markdown",
   "id": "5bfae1a9-6783-4eb4-b3f7-26e23ccf19bd",
   "metadata": {},
   "source": [
    "Q3. Define covariance and explain why it is important in statistical analysis. How is covariance calculated?"
   ]
  },
  {
   "cell_type": "markdown",
   "id": "f351c90c-7c8b-4799-a0a1-d693761d04dd",
   "metadata": {},
   "source": [
    "Relationship Assessment: Covariance helps determine whether two variables have a positive (direct) or negative (inverse) relationship. A positive covariance suggests that when one variable increases, the other tends to increase as well, while a negative covariance indicates that one variable tends to decrease as the other increases.\n",
    "\n",
    "Portfolio Analysis: In finance, covariance is used to analyze the relationship between the returns of different assets. It helps investors diversify their portfolios by selecting assets that have low or negative covariance, reducing risk.\n",
    "\n",
    "Linear Regression: Covariance is involved in the calculation of coefficients in linear regression models. It helps assess the direction and strength of the relationship between the independent and dependent variables.\n",
    "\n",
    "Multivariate Analysis: In multivariate analysis, covariance matrices are used to study relationships between multiple variables simultaneously.\n",
    "\n",
    "Data Preprocessing: Covariance can help identify redundant features in datasets, aiding in feature selection or dimensionality reduction."
   ]
  },
  {
   "cell_type": "code",
   "execution_count": 2,
   "id": "933435eb-55d8-4367-94ff-bc2c13b57c69",
   "metadata": {},
   "outputs": [
    {
     "name": "stdout",
     "output_type": "stream",
     "text": [
      "Covariance: -2.5\n"
     ]
    }
   ],
   "source": [
    "import numpy as np\n",
    "\n",
    "# Sample data\n",
    "X = np.array([1, 2, 3, 4, 5])\n",
    "Y = np.array([5, 4, 3, 2, 1])\n",
    "\n",
    "# Calculate means\n",
    "mean_X = np.mean(X)\n",
    "mean_Y = np.mean(Y)\n",
    "\n",
    "# Calculate covariance\n",
    "covariance = np.sum((X - mean_X) * (Y - mean_Y)) / (len(X) - 1)\n",
    "\n",
    "print(\"Covariance:\", covariance)\n"
   ]
  },
  {
   "cell_type": "code",
   "execution_count": null,
   "id": "ace46833-0da2-43f1-bef5-a57f3906952d",
   "metadata": {},
   "outputs": [],
   "source": []
  },
  {
   "cell_type": "code",
   "execution_count": null,
   "id": "a31a2174-fc8d-40b4-bd30-de0582a928c9",
   "metadata": {},
   "outputs": [],
   "source": []
  },
  {
   "cell_type": "markdown",
   "id": "3d1560b0-2504-4bef-a552-f18f8f3c4baf",
   "metadata": {},
   "source": [
    "Q4. For a dataset with the following categorical variables: Color (red, green, blue), Size (small, medium,\n",
    "large), and Material (wood, metal, plastic), perform label encoding using Python's scikit-learn library.\n",
    "Show your code and explain the output."
   ]
  },
  {
   "cell_type": "code",
   "execution_count": 1,
   "id": "9efe061c-1cf4-4359-988d-0e2b3787ffa0",
   "metadata": {},
   "outputs": [
    {
     "name": "stdout",
     "output_type": "stream",
     "text": [
      "   Color    Size  Material  size\n",
      "0      2   small         2     2\n",
      "1      1  medium         0     1\n",
      "2      0   large         1     0\n"
     ]
    }
   ],
   "source": [
    "from sklearn.preprocessing import LabelEncoder\n",
    "import pandas as pd\n",
    "\n",
    "dataset = pd.DataFrame({\n",
    "    'Color' : ['red','green','blue'],\n",
    "    'Size' : ['small','medium','large'],\n",
    "    'Material' : ['wood','metal','plastic']\n",
    "})\n",
    "\n",
    "encoder = LabelEncoder()\n",
    "\n",
    "dataset['size'] = encoder.fit_transform(dataset['Size'])\n",
    "dataset['Material'] = encoder.fit_transform(dataset['Material'])\n",
    "dataset['Color'] = encoder.fit_transform(dataset['Color'])\n",
    "print(dataset)"
   ]
  },
  {
   "cell_type": "code",
   "execution_count": null,
   "id": "371a7779-a04e-4e6d-8e79-96965ee336b8",
   "metadata": {},
   "outputs": [],
   "source": []
  },
  {
   "cell_type": "code",
   "execution_count": null,
   "id": "a538f3d3-3b00-477c-967c-570ea65b8c03",
   "metadata": {},
   "outputs": [],
   "source": [
    "\n"
   ]
  },
  {
   "cell_type": "markdown",
   "id": "90cec10f-e017-4ca0-9227-09e2b04ba0f7",
   "metadata": {},
   "source": [
    "Q5. Calculate the covariance matrix for the following variables in a dataset: Age, Income, and Education\n",
    "level. Interpret the results."
   ]
  },
  {
   "cell_type": "code",
   "execution_count": 6,
   "id": "b2a1d07a-fbbc-4815-914f-a761a9fcee68",
   "metadata": {},
   "outputs": [
    {
     "name": "stdout",
     "output_type": "stream",
     "text": [
      "[[1.595e+02 3.025e+05 1.250e+00]\n",
      " [3.025e+05 5.800e+08 3.500e+03]\n",
      " [1.250e+00 3.500e+03 7.000e-01]]\n"
     ]
    }
   ],
   "source": [
    "import numpy as np\n",
    "\n",
    "age = [25, 32, 45, 28, 55]\n",
    "income = [50000, 70000, 90000, 60000, 110000]\n",
    "education_level = [3, 4, 2, 3, 4]\n",
    "\n",
    "data_matrix = np.array([age,income,education_level])\n",
    "\n",
    "covariance_matrix = np.cov(data_matrix)\n",
    "\n",
    "print(covariance_matrix)"
   ]
  },
  {
   "cell_type": "code",
   "execution_count": null,
   "id": "e602645f-9fe9-4b72-b23d-a8e18f700dbb",
   "metadata": {},
   "outputs": [],
   "source": []
  },
  {
   "cell_type": "code",
   "execution_count": null,
   "id": "5e9b4500-514b-40a0-b930-0dd4222fd66f",
   "metadata": {},
   "outputs": [],
   "source": []
  },
  {
   "cell_type": "markdown",
   "id": "7ac3d7fa-2faa-4b0c-9201-720b582c23dc",
   "metadata": {},
   "source": [
    "Q6. You are working on a machine learning project with a dataset containing several categorical\n",
    "variables, including \"Gender\" (Male/Female), \"Education Level\" (High School/Bachelor's/Master's/PhD),\n",
    "and \"Employment Status\" (Unemployed/Part-Time/Full-Time). Which encoding method would you use for\n",
    "each variable, and why?"
   ]
  },
  {
   "cell_type": "markdown",
   "id": "d6c17ace-1065-479b-b33b-49ec61822a5f",
   "metadata": {},
   "source": [
    "1. Gender (Nominal Categorical Variable):\n",
    "Since \"Gender\" is a nominal categorical variable with no inherent order, you should use One-Hot Encoding. This technique will create binary (0/1) columns for each category, effectively representing the absence or presence of a particular gender.\n",
    "\n",
    "Example:\n",
    "\n",
    "Original: \"Gender\" (Male/Female)\n",
    "Encoded: \"Gender_Male\" (0 or 1), \"Gender_Female\" (0 or 1)\n",
    "2. Education Level (Ordinal Categorical Variable):\n",
    "\"Education Level\" has a clear order (\"High School\" < \"Bachelor's\" < \"Master's\" < \"PhD\"), making it an ordinal categorical variable. You can use Ordinal Encoding in this case to represent the ordinal relationship.\n",
    "\n",
    "Example:\n",
    "\n",
    "Original: \"Education Level\" (High School/Bachelor's/Master's/PhD)\n",
    "Encoded: \"Education_Level\" (0 to 3, representing the ordinal levels)\n",
    "3. Employment Status (Nominal Categorical Variable):\n",
    "\"Employment Status\" is another nominal categorical variable, similar to \"Gender.\" To handle this variable, you should again use One-Hot Encoding to create binary columns for each category.\n",
    "\n",
    "Example:\n",
    "\n",
    "Original: \"Employment Status\" (Unemployed/Part-Time/Full-Time)\n",
    "Encoded: \"Employment_Unemployed\" (0 or 1), \"Employment_PartTime\" (0 or 1), \"Employment_FullTime\" (0 or 1)"
   ]
  },
  {
   "cell_type": "code",
   "execution_count": null,
   "id": "90474f8c-2254-47c5-af0d-21ef68062257",
   "metadata": {},
   "outputs": [],
   "source": []
  },
  {
   "cell_type": "code",
   "execution_count": null,
   "id": "94f18887-d42f-4bf2-bbc6-e4458560eedc",
   "metadata": {},
   "outputs": [],
   "source": []
  },
  {
   "cell_type": "markdown",
   "id": "cb37d506-66ad-4ddf-aae8-cc1669776687",
   "metadata": {},
   "source": [
    "Q7. You are analyzing a dataset with two continuous variables, \"Temperature\" and \"Humidity\", and two\n",
    "categorical variables, \"Weather Condition\" (Sunny/Cloudy/Rainy) and \"Wind Direction\" (North/South/\n",
    "East/West). Calculate the covariance between each pair of variables and interpret the results."
   ]
  },
  {
   "cell_type": "code",
   "execution_count": 1,
   "id": "a0c28dcb-c6c0-400a-8015-e0e597b0a7fe",
   "metadata": {},
   "outputs": [
    {
     "data": {
      "text/plain": [
       "array([[15.7 ,  1.75],\n",
       "       [ 1.75, 14.5 ]])"
      ]
     },
     "execution_count": 1,
     "metadata": {},
     "output_type": "execute_result"
    }
   ],
   "source": [
    "import numpy as np\n",
    "\n",
    "temperature = [28,25,30,35,26]\n",
    "humidity = [60,55,65,58,62]\n",
    "\n",
    "covariance_matrix = np.cov(temperature, humidity)\n",
    "\n",
    "covariance_matrix\n",
    "\n"
   ]
  },
  {
   "cell_type": "code",
   "execution_count": 2,
   "id": "1d3e6653-238c-4a70-9b8f-f98917444b74",
   "metadata": {},
   "outputs": [
    {
     "name": "stdout",
     "output_type": "stream",
     "text": [
      "Cross-Tabulation:\n",
      "Wind Direction     East  North  South  West\n",
      "Weather Condition                          \n",
      "Cloudy                0      1      1     0\n",
      "Rainy                 1      0      0     0\n",
      "Sunny                 0      1      0     1\n"
     ]
    }
   ],
   "source": [
    "import pandas as pd\n",
    "\n",
    "# Sample data\n",
    "data = {\n",
    "    'Weather Condition': ['Sunny', 'Cloudy', 'Rainy', 'Sunny', 'Cloudy'],\n",
    "    'Wind Direction': ['North', 'South', 'East', 'West', 'North']\n",
    "}\n",
    "\n",
    "# Create a DataFrame\n",
    "df = pd.DataFrame(data)\n",
    "\n",
    "# Create a cross-tabulation\n",
    "cross_tab = pd.crosstab(df['Weather Condition'], df['Wind Direction'])\n",
    "\n",
    "print(\"Cross-Tabulation:\")\n",
    "print(cross_tab)\n"
   ]
  },
  {
   "cell_type": "code",
   "execution_count": null,
   "id": "4d74ae52-ce11-4450-91fe-4e63e09a969e",
   "metadata": {},
   "outputs": [],
   "source": []
  }
 ],
 "metadata": {
  "kernelspec": {
   "display_name": "Python 3 (ipykernel)",
   "language": "python",
   "name": "python3"
  },
  "language_info": {
   "codemirror_mode": {
    "name": "ipython",
    "version": 3
   },
   "file_extension": ".py",
   "mimetype": "text/x-python",
   "name": "python",
   "nbconvert_exporter": "python",
   "pygments_lexer": "ipython3",
   "version": "3.10.8"
  }
 },
 "nbformat": 4,
 "nbformat_minor": 5
}
